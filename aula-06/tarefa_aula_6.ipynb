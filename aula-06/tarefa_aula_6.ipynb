{
 "cells": [
  {
   "cell_type": "markdown",
   "id": "8519abd9-855b-4a0b-82e0-41178722f06d",
   "metadata": {
    "tags": []
   },
   "source": [
    "#### Importando as bibliotecas"
   ]
  },
  {
   "cell_type": "code",
   "execution_count": 38,
   "id": "078ca875-0acf-4ff3-acd7-4834193cd0c2",
   "metadata": {
    "tags": []
   },
   "outputs": [],
   "source": [
    "#!pip install boto3"
   ]
  },
  {
   "cell_type": "code",
   "execution_count": 46,
   "id": "3e0e85a0-ba59-4a77-8870-c71ad181b3b8",
   "metadata": {
    "tags": []
   },
   "outputs": [],
   "source": [
    "import pandas as pd\n",
    "import numpy as np\n",
    "from io import BytesIO\n",
    "from io import StringIO \n",
    "import boto3"
   ]
  },
  {
   "cell_type": "markdown",
   "id": "175a7c43-f77f-407a-b359-dc65f004f57d",
   "metadata": {
    "tags": []
   },
   "source": [
    "#### Cliente para conectar o MinIO"
   ]
  },
  {
   "cell_type": "code",
   "execution_count": 47,
   "id": "12237582-1cda-4011-bb80-a03e97f17083",
   "metadata": {
    "tags": []
   },
   "outputs": [],
   "source": [
    "client = boto3.client('s3', \n",
    "    endpoint_url='http://awari-minio-nginx:9000',\n",
    "    aws_access_key_id=\"nN4wl0PlQAGGgFqG\",\n",
    "    aws_secret_access_key='AZj1hJDxu4HWflRZ1RqQl2x2UC23g25D',\n",
    "    aws_session_token=None,\n",
    "    config=boto3.session.Config(signature_version='s3v4'),\n",
    "    verify=False,\n",
    "    region_name='sa-east-1'\n",
    ")"
   ]
  },
  {
   "cell_type": "markdown",
   "id": "0faeda99-c31d-4822-9650-5201d7d61107",
   "metadata": {
    "jp-MarkdownHeadingCollapsed": true,
    "tags": []
   },
   "source": [
    "#### Lendo os arquivos"
   ]
  },
  {
   "cell_type": "code",
   "execution_count": 126,
   "id": "ec9d2f4d-ff9d-488f-94e7-80b9eb0c8696",
   "metadata": {
    "tags": []
   },
   "outputs": [],
   "source": [
    "df_estados = pd.read_csv(\"dados/estados.csv\") \n",
    "df_municipios = pd.read_csv(\"dados/municipios.csv\")"
   ]
  },
  {
   "cell_type": "code",
   "execution_count": 127,
   "id": "d55ff2c0-f15f-4d79-8c80-627e42db4155",
   "metadata": {
    "tags": []
   },
   "outputs": [
    {
     "data": {
      "text/html": [
       "<div>\n",
       "<style scoped>\n",
       "    .dataframe tbody tr th:only-of-type {\n",
       "        vertical-align: middle;\n",
       "    }\n",
       "\n",
       "    .dataframe tbody tr th {\n",
       "        vertical-align: top;\n",
       "    }\n",
       "\n",
       "    .dataframe thead th {\n",
       "        text-align: right;\n",
       "    }\n",
       "</style>\n",
       "<table border=\"1\" class=\"dataframe\">\n",
       "  <thead>\n",
       "    <tr style=\"text-align: right;\">\n",
       "      <th></th>\n",
       "      <th>codigo_uf</th>\n",
       "      <th>uf</th>\n",
       "      <th>nome</th>\n",
       "      <th>latitude</th>\n",
       "      <th>longitude</th>\n",
       "      <th>regiao</th>\n",
       "    </tr>\n",
       "  </thead>\n",
       "  <tbody>\n",
       "    <tr>\n",
       "      <th>0</th>\n",
       "      <td>11</td>\n",
       "      <td>RO</td>\n",
       "      <td>Rondônia</td>\n",
       "      <td>-10.83</td>\n",
       "      <td>-63.34</td>\n",
       "      <td>Norte</td>\n",
       "    </tr>\n",
       "    <tr>\n",
       "      <th>1</th>\n",
       "      <td>12</td>\n",
       "      <td>AC</td>\n",
       "      <td>Acre</td>\n",
       "      <td>-8.77</td>\n",
       "      <td>-70.55</td>\n",
       "      <td>Norte</td>\n",
       "    </tr>\n",
       "    <tr>\n",
       "      <th>2</th>\n",
       "      <td>13</td>\n",
       "      <td>AM</td>\n",
       "      <td>Amazonas</td>\n",
       "      <td>-3.47</td>\n",
       "      <td>-65.10</td>\n",
       "      <td>Norte</td>\n",
       "    </tr>\n",
       "    <tr>\n",
       "      <th>3</th>\n",
       "      <td>14</td>\n",
       "      <td>RR</td>\n",
       "      <td>Roraima</td>\n",
       "      <td>1.99</td>\n",
       "      <td>-61.33</td>\n",
       "      <td>Norte</td>\n",
       "    </tr>\n",
       "    <tr>\n",
       "      <th>4</th>\n",
       "      <td>15</td>\n",
       "      <td>PA</td>\n",
       "      <td>Pará</td>\n",
       "      <td>-3.79</td>\n",
       "      <td>-52.48</td>\n",
       "      <td>Norte</td>\n",
       "    </tr>\n",
       "  </tbody>\n",
       "</table>\n",
       "</div>"
      ],
      "text/plain": [
       "   codigo_uf  uf      nome  latitude  longitude regiao\n",
       "0         11  RO  Rondônia    -10.83     -63.34  Norte\n",
       "1         12  AC      Acre     -8.77     -70.55  Norte\n",
       "2         13  AM  Amazonas     -3.47     -65.10  Norte\n",
       "3         14  RR   Roraima      1.99     -61.33  Norte\n",
       "4         15  PA      Pará     -3.79     -52.48  Norte"
      ]
     },
     "execution_count": 127,
     "metadata": {},
     "output_type": "execute_result"
    }
   ],
   "source": [
    "df_estados.head()"
   ]
  },
  {
   "cell_type": "code",
   "execution_count": 128,
   "id": "4e156490-5fbe-46bc-835e-450b3344b00f",
   "metadata": {
    "tags": []
   },
   "outputs": [
    {
     "data": {
      "text/html": [
       "<div>\n",
       "<style scoped>\n",
       "    .dataframe tbody tr th:only-of-type {\n",
       "        vertical-align: middle;\n",
       "    }\n",
       "\n",
       "    .dataframe tbody tr th {\n",
       "        vertical-align: top;\n",
       "    }\n",
       "\n",
       "    .dataframe thead th {\n",
       "        text-align: right;\n",
       "    }\n",
       "</style>\n",
       "<table border=\"1\" class=\"dataframe\">\n",
       "  <thead>\n",
       "    <tr style=\"text-align: right;\">\n",
       "      <th></th>\n",
       "      <th>codigo_ibge</th>\n",
       "      <th>nome</th>\n",
       "      <th>latitude</th>\n",
       "      <th>longitude</th>\n",
       "      <th>capital</th>\n",
       "      <th>codigo_uf</th>\n",
       "      <th>siafi_id</th>\n",
       "      <th>ddd</th>\n",
       "      <th>fuso_horario</th>\n",
       "    </tr>\n",
       "  </thead>\n",
       "  <tbody>\n",
       "    <tr>\n",
       "      <th>0</th>\n",
       "      <td>5200050</td>\n",
       "      <td>Abadia de Goiás</td>\n",
       "      <td>-16.75730</td>\n",
       "      <td>-49.4412</td>\n",
       "      <td>0</td>\n",
       "      <td>52</td>\n",
       "      <td>1050</td>\n",
       "      <td>62</td>\n",
       "      <td>America/Sao_Paulo</td>\n",
       "    </tr>\n",
       "    <tr>\n",
       "      <th>1</th>\n",
       "      <td>3100104</td>\n",
       "      <td>Abadia dos Dourados</td>\n",
       "      <td>-18.48310</td>\n",
       "      <td>-47.3916</td>\n",
       "      <td>0</td>\n",
       "      <td>31</td>\n",
       "      <td>4001</td>\n",
       "      <td>34</td>\n",
       "      <td>America/Sao_Paulo</td>\n",
       "    </tr>\n",
       "    <tr>\n",
       "      <th>2</th>\n",
       "      <td>5200100</td>\n",
       "      <td>Abadiânia</td>\n",
       "      <td>-16.19700</td>\n",
       "      <td>-48.7057</td>\n",
       "      <td>0</td>\n",
       "      <td>52</td>\n",
       "      <td>9201</td>\n",
       "      <td>62</td>\n",
       "      <td>America/Sao_Paulo</td>\n",
       "    </tr>\n",
       "    <tr>\n",
       "      <th>3</th>\n",
       "      <td>3100203</td>\n",
       "      <td>Abaeté</td>\n",
       "      <td>-19.15510</td>\n",
       "      <td>-45.4444</td>\n",
       "      <td>0</td>\n",
       "      <td>31</td>\n",
       "      <td>4003</td>\n",
       "      <td>37</td>\n",
       "      <td>America/Sao_Paulo</td>\n",
       "    </tr>\n",
       "    <tr>\n",
       "      <th>4</th>\n",
       "      <td>1500107</td>\n",
       "      <td>Abaetetuba</td>\n",
       "      <td>-1.72183</td>\n",
       "      <td>-48.8788</td>\n",
       "      <td>0</td>\n",
       "      <td>15</td>\n",
       "      <td>401</td>\n",
       "      <td>91</td>\n",
       "      <td>America/Sao_Paulo</td>\n",
       "    </tr>\n",
       "  </tbody>\n",
       "</table>\n",
       "</div>"
      ],
      "text/plain": [
       "   codigo_ibge                 nome  latitude  longitude  capital  codigo_uf  \\\n",
       "0      5200050      Abadia de Goiás -16.75730   -49.4412        0         52   \n",
       "1      3100104  Abadia dos Dourados -18.48310   -47.3916        0         31   \n",
       "2      5200100            Abadiânia -16.19700   -48.7057        0         52   \n",
       "3      3100203               Abaeté -19.15510   -45.4444        0         31   \n",
       "4      1500107           Abaetetuba  -1.72183   -48.8788        0         15   \n",
       "\n",
       "   siafi_id  ddd       fuso_horario  \n",
       "0      1050   62  America/Sao_Paulo  \n",
       "1      4001   34  America/Sao_Paulo  \n",
       "2      9201   62  America/Sao_Paulo  \n",
       "3      4003   37  America/Sao_Paulo  \n",
       "4       401   91  America/Sao_Paulo  "
      ]
     },
     "execution_count": 128,
     "metadata": {},
     "output_type": "execute_result"
    }
   ],
   "source": [
    "df_municipios.head()"
   ]
  },
  {
   "cell_type": "markdown",
   "id": "63fa0843-470a-4255-83b1-b78d4a42a24a",
   "metadata": {
    "tags": []
   },
   "source": [
    "### Atividade - 01\n",
    "\n",
    "* Criar uma pasta nomeada com a sigla da UF para cada estado encontrado no arquivo JSON"
   ]
  },
  {
   "cell_type": "code",
   "execution_count": 129,
   "id": "6dae6bcf-7807-40d6-97c1-1de46cd5199c",
   "metadata": {
    "tags": []
   },
   "outputs": [],
   "source": [
    "lista_estados = df_estados['uf'].unique()\n",
    "lista_estados.sort()"
   ]
  },
  {
   "cell_type": "code",
   "execution_count": 130,
   "id": "f5b3ed30-a3d9-45a8-91af-bc9afd8b39b9",
   "metadata": {
    "tags": []
   },
   "outputs": [],
   "source": [
    "# Criando as pastas para cada Estado\n",
    "for estado in lista_estados:\n",
    "    client.put_object(Bucket='aula-06', Key=f'{estado}/')"
   ]
  },
  {
   "cell_type": "markdown",
   "id": "6a9f3bb5-773f-47c5-b03d-9e087726adbd",
   "metadata": {
    "tags": []
   },
   "source": [
    "### Atividade - 02\n",
    "\n",
    "* Organizar as cidades por estado um único arquivo CSV, nomeado como cidades.csv;\n",
    "* Salvar esse arquivo cidades.csv dentro da pasta da UF (estado) correspondente"
   ]
  },
  {
   "cell_type": "markdown",
   "id": "1c281e70-e798-4aee-8457-a010fca40b84",
   "metadata": {},
   "source": [
    "* Dicionário contendo código e nome de cada municipio"
   ]
  },
  {
   "cell_type": "code",
   "execution_count": 131,
   "id": "b74b705d-25dd-452a-a3a4-a2f00e7a6623",
   "metadata": {
    "tags": []
   },
   "outputs": [],
   "source": [
    "dicionario = dict()\n",
    "for i in df_estados[['uf', 'codigo_uf']].iterrows():\n",
    "    cod = (i[1][1])\n",
    "    uf = (i[1][0])\n",
    "    dicionario[uf] = cod"
   ]
  },
  {
   "cell_type": "markdown",
   "id": "2a6e1d27-5f56-4ae3-90fc-29a4a8931cac",
   "metadata": {},
   "source": [
    "* Enviando para as pastas os arquivos contendo informações do municipio do Estado."
   ]
  },
  {
   "cell_type": "code",
   "execution_count": 137,
   "id": "1e005057-6124-4079-9489-db371e8df00d",
   "metadata": {
    "tags": []
   },
   "outputs": [],
   "source": [
    "for i in lista_estados:\n",
    "    dff = df_municipios[df_municipios[\"codigo_uf\"] == dicionario[i]]\n",
    "    \n",
    "    csv_buffer = StringIO()\n",
    "    dff.to_csv(csv_buffer, index=False)\n",
    "    client.put_object(Body=csv_buffer.getvalue(), Bucket='aula-06', Key=f\"{i}/cidades.csv\")"
   ]
  },
  {
   "cell_type": "markdown",
   "id": "593a7948-8d60-4d5f-8ed3-e4d56032d4ef",
   "metadata": {
    "tags": []
   },
   "source": [
    "#### Verificando se os arquivos foram criandos corretamente"
   ]
  },
  {
   "cell_type": "markdown",
   "id": "7195795f-b219-4597-9755-4ead4588d72c",
   "metadata": {},
   "source": [
    "* Carregando o arquivo com as informações do Ceará"
   ]
  },
  {
   "cell_type": "code",
   "execution_count": 149,
   "id": "4f5fe948-d477-4ae5-ad9a-7f6c14070126",
   "metadata": {
    "tags": []
   },
   "outputs": [
    {
     "data": {
      "text/html": [
       "<div>\n",
       "<style scoped>\n",
       "    .dataframe tbody tr th:only-of-type {\n",
       "        vertical-align: middle;\n",
       "    }\n",
       "\n",
       "    .dataframe tbody tr th {\n",
       "        vertical-align: top;\n",
       "    }\n",
       "\n",
       "    .dataframe thead th {\n",
       "        text-align: right;\n",
       "    }\n",
       "</style>\n",
       "<table border=\"1\" class=\"dataframe\">\n",
       "  <thead>\n",
       "    <tr style=\"text-align: right;\">\n",
       "      <th></th>\n",
       "      <th>codigo_ibge</th>\n",
       "      <th>nome</th>\n",
       "      <th>latitude</th>\n",
       "      <th>longitude</th>\n",
       "      <th>capital</th>\n",
       "      <th>codigo_uf</th>\n",
       "      <th>siafi_id</th>\n",
       "      <th>ddd</th>\n",
       "      <th>fuso_horario</th>\n",
       "    </tr>\n",
       "  </thead>\n",
       "  <tbody>\n",
       "    <tr>\n",
       "      <th>0</th>\n",
       "      <td>2300101</td>\n",
       "      <td>Abaiara</td>\n",
       "      <td>-7.34588</td>\n",
       "      <td>-39.0416</td>\n",
       "      <td>0</td>\n",
       "      <td>23</td>\n",
       "      <td>1301</td>\n",
       "      <td>88</td>\n",
       "      <td>America/Sao_Paulo</td>\n",
       "    </tr>\n",
       "    <tr>\n",
       "      <th>1</th>\n",
       "      <td>2300150</td>\n",
       "      <td>Acarape</td>\n",
       "      <td>-4.22083</td>\n",
       "      <td>-38.7055</td>\n",
       "      <td>0</td>\n",
       "      <td>23</td>\n",
       "      <td>1231</td>\n",
       "      <td>85</td>\n",
       "      <td>America/Sao_Paulo</td>\n",
       "    </tr>\n",
       "    <tr>\n",
       "      <th>2</th>\n",
       "      <td>2300200</td>\n",
       "      <td>Acaraú</td>\n",
       "      <td>-2.88769</td>\n",
       "      <td>-40.1183</td>\n",
       "      <td>0</td>\n",
       "      <td>23</td>\n",
       "      <td>1303</td>\n",
       "      <td>88</td>\n",
       "      <td>America/Sao_Paulo</td>\n",
       "    </tr>\n",
       "    <tr>\n",
       "      <th>3</th>\n",
       "      <td>2300309</td>\n",
       "      <td>Acopiara</td>\n",
       "      <td>-6.08911</td>\n",
       "      <td>-39.4480</td>\n",
       "      <td>0</td>\n",
       "      <td>23</td>\n",
       "      <td>1305</td>\n",
       "      <td>88</td>\n",
       "      <td>America/Sao_Paulo</td>\n",
       "    </tr>\n",
       "    <tr>\n",
       "      <th>4</th>\n",
       "      <td>2300408</td>\n",
       "      <td>Aiuaba</td>\n",
       "      <td>-6.57122</td>\n",
       "      <td>-40.1178</td>\n",
       "      <td>0</td>\n",
       "      <td>23</td>\n",
       "      <td>1307</td>\n",
       "      <td>88</td>\n",
       "      <td>America/Sao_Paulo</td>\n",
       "    </tr>\n",
       "  </tbody>\n",
       "</table>\n",
       "</div>"
      ],
      "text/plain": [
       "   codigo_ibge      nome  latitude  longitude  capital  codigo_uf  siafi_id  \\\n",
       "0      2300101   Abaiara  -7.34588   -39.0416        0         23      1301   \n",
       "1      2300150   Acarape  -4.22083   -38.7055        0         23      1231   \n",
       "2      2300200    Acaraú  -2.88769   -40.1183        0         23      1303   \n",
       "3      2300309  Acopiara  -6.08911   -39.4480        0         23      1305   \n",
       "4      2300408    Aiuaba  -6.57122   -40.1178        0         23      1307   \n",
       "\n",
       "   ddd       fuso_horario  \n",
       "0   88  America/Sao_Paulo  \n",
       "1   85  America/Sao_Paulo  \n",
       "2   88  America/Sao_Paulo  \n",
       "3   88  America/Sao_Paulo  \n",
       "4   88  America/Sao_Paulo  "
      ]
     },
     "execution_count": 149,
     "metadata": {},
     "output_type": "execute_result"
    }
   ],
   "source": [
    "obj = client.get_object(\n",
    "    Bucket='aula-06', \n",
    "    Key=\"CE/cidades.csv\"\n",
    ").get(\"Body\")\n",
    "\n",
    "data = pd.read_csv(obj)\n",
    "data.head()"
   ]
  },
  {
   "cell_type": "markdown",
   "id": "e091d914-ef0c-4189-93ff-2777984e9a4a",
   "metadata": {},
   "source": [
    "* Extra - Listando nomes dos arquivos presentes em um buket"
   ]
  },
  {
   "cell_type": "code",
   "execution_count": 177,
   "id": "69f289c2-1c6d-450f-aea2-64879bc019fc",
   "metadata": {
    "tags": []
   },
   "outputs": [],
   "source": [
    "url_arquivos = []\n",
    "\n",
    "for uf in lista_estados:\n",
    "    bucket_name = 'aula-06'\n",
    "    folder_prefix = uf\n",
    "\n",
    "    response = client.list_objects_v2(\n",
    "        Bucket=bucket_name,\n",
    "        Prefix=folder_prefix\n",
    "    )\n",
    "    \n",
    "    url_arquivos.append(response['Contents'][1][\"Key\"])"
   ]
  },
  {
   "cell_type": "markdown",
   "id": "59dc27dd-3d77-40e3-8161-edf2ae369d38",
   "metadata": {},
   "source": [
    "* Lendo cada arquivo presente em um buket"
   ]
  },
  {
   "cell_type": "code",
   "execution_count": 178,
   "id": "bb772df4-38fd-426d-b569-2300de3a3eb8",
   "metadata": {
    "tags": []
   },
   "outputs": [],
   "source": [
    "for url in url_arquivos:\n",
    "\n",
    "    obj = client.get_object(\n",
    "        Bucket='aula-06', \n",
    "        Key=url\n",
    "    ).get(\"Body\")\n",
    "\n",
    "    data = pd.read_csv(obj)\n",
    "    break"
   ]
  },
  {
   "cell_type": "code",
   "execution_count": 181,
   "id": "bf29f5eb-bb51-494d-8f5b-47b458a6923c",
   "metadata": {
    "tags": []
   },
   "outputs": [
    {
     "data": {
      "text/html": [
       "<div>\n",
       "<style scoped>\n",
       "    .dataframe tbody tr th:only-of-type {\n",
       "        vertical-align: middle;\n",
       "    }\n",
       "\n",
       "    .dataframe tbody tr th {\n",
       "        vertical-align: top;\n",
       "    }\n",
       "\n",
       "    .dataframe thead th {\n",
       "        text-align: right;\n",
       "    }\n",
       "</style>\n",
       "<table border=\"1\" class=\"dataframe\">\n",
       "  <thead>\n",
       "    <tr style=\"text-align: right;\">\n",
       "      <th></th>\n",
       "      <th>codigo_ibge</th>\n",
       "      <th>nome</th>\n",
       "      <th>latitude</th>\n",
       "      <th>longitude</th>\n",
       "      <th>capital</th>\n",
       "      <th>codigo_uf</th>\n",
       "      <th>siafi_id</th>\n",
       "      <th>ddd</th>\n",
       "      <th>fuso_horario</th>\n",
       "    </tr>\n",
       "  </thead>\n",
       "  <tbody>\n",
       "    <tr>\n",
       "      <th>0</th>\n",
       "      <td>1200013</td>\n",
       "      <td>Acrelândia</td>\n",
       "      <td>-9.82581</td>\n",
       "      <td>-66.8972</td>\n",
       "      <td>0</td>\n",
       "      <td>12</td>\n",
       "      <td>643</td>\n",
       "      <td>68</td>\n",
       "      <td>America/Rio_Branco</td>\n",
       "    </tr>\n",
       "    <tr>\n",
       "      <th>1</th>\n",
       "      <td>1200054</td>\n",
       "      <td>Assis Brasil</td>\n",
       "      <td>-10.92980</td>\n",
       "      <td>-69.5738</td>\n",
       "      <td>0</td>\n",
       "      <td>12</td>\n",
       "      <td>157</td>\n",
       "      <td>68</td>\n",
       "      <td>America/Rio_Branco</td>\n",
       "    </tr>\n",
       "    <tr>\n",
       "      <th>2</th>\n",
       "      <td>1200104</td>\n",
       "      <td>Brasiléia</td>\n",
       "      <td>-10.99500</td>\n",
       "      <td>-68.7497</td>\n",
       "      <td>0</td>\n",
       "      <td>12</td>\n",
       "      <td>105</td>\n",
       "      <td>68</td>\n",
       "      <td>America/Rio_Branco</td>\n",
       "    </tr>\n",
       "    <tr>\n",
       "      <th>3</th>\n",
       "      <td>1200138</td>\n",
       "      <td>Bujari</td>\n",
       "      <td>-9.81528</td>\n",
       "      <td>-67.9550</td>\n",
       "      <td>0</td>\n",
       "      <td>12</td>\n",
       "      <td>645</td>\n",
       "      <td>68</td>\n",
       "      <td>America/Rio_Branco</td>\n",
       "    </tr>\n",
       "    <tr>\n",
       "      <th>4</th>\n",
       "      <td>1200179</td>\n",
       "      <td>Capixaba</td>\n",
       "      <td>-10.56600</td>\n",
       "      <td>-67.6860</td>\n",
       "      <td>0</td>\n",
       "      <td>12</td>\n",
       "      <td>647</td>\n",
       "      <td>68</td>\n",
       "      <td>America/Rio_Branco</td>\n",
       "    </tr>\n",
       "  </tbody>\n",
       "</table>\n",
       "</div>"
      ],
      "text/plain": [
       "   codigo_ibge          nome  latitude  longitude  capital  codigo_uf  \\\n",
       "0      1200013    Acrelândia  -9.82581   -66.8972        0         12   \n",
       "1      1200054  Assis Brasil -10.92980   -69.5738        0         12   \n",
       "2      1200104     Brasiléia -10.99500   -68.7497        0         12   \n",
       "3      1200138        Bujari  -9.81528   -67.9550        0         12   \n",
       "4      1200179      Capixaba -10.56600   -67.6860        0         12   \n",
       "\n",
       "   siafi_id  ddd        fuso_horario  \n",
       "0       643   68  America/Rio_Branco  \n",
       "1       157   68  America/Rio_Branco  \n",
       "2       105   68  America/Rio_Branco  \n",
       "3       645   68  America/Rio_Branco  \n",
       "4       647   68  America/Rio_Branco  "
      ]
     },
     "execution_count": 181,
     "metadata": {},
     "output_type": "execute_result"
    }
   ],
   "source": [
    "data.head()"
   ]
  },
  {
   "cell_type": "markdown",
   "id": "427b2003-886e-4707-99d1-ea3a39188bcc",
   "metadata": {
    "tags": []
   },
   "source": [
    "### Atividade - 03\n",
    "* Exportar os dados para o MongoDB e visualizá-los a partir do banco de dados."
   ]
  },
  {
   "cell_type": "code",
   "execution_count": null,
   "id": "ef080e85-d92d-4bb6-956c-41cd0d31c77b",
   "metadata": {},
   "outputs": [],
   "source": []
  }
 ],
 "metadata": {
  "kernelspec": {
   "display_name": "Python 3 (ipykernel)",
   "language": "python",
   "name": "python3"
  },
  "language_info": {
   "codemirror_mode": {
    "name": "ipython",
    "version": 3
   },
   "file_extension": ".py",
   "mimetype": "text/x-python",
   "name": "python",
   "nbconvert_exporter": "python",
   "pygments_lexer": "ipython3",
   "version": "3.10.9"
  }
 },
 "nbformat": 4,
 "nbformat_minor": 5
}
